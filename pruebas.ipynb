{
 "cells": [
  {
   "cell_type": "code",
   "execution_count": 180,
   "metadata": {},
   "outputs": [],
   "source": [
    "import numpy as np\n",
    "import torch\n",
    "import matplotlib.pyplot as plt\n",
    "import os\n",
    "import pandas as pd\n",
    "from torch.utils.data import Dataset\n",
    "import torch"
   ]
  },
  {
   "cell_type": "code",
   "execution_count": 256,
   "metadata": {},
   "outputs": [],
   "source": [
    "# This class takes an npz file and turns it into a torch dataset so it can be the input of a dataloader\n",
    "class NpzDataset(torch.utils.data.Dataset):\n",
    "    def __init__(self, data):\n",
    "        self.img = data[\"images\"]\n",
    "        self.lab = data[\"labels\"]\n",
    "\n",
    "    def __getitem__(self, idx):\n",
    "        return (self.img[idx], self.lab[idx])\n",
    "\n",
    "    def __len__(self):\n",
    "        return len(self.img)"
   ]
  },
  {
   "cell_type": "code",
   "execution_count": 257,
   "metadata": {},
   "outputs": [],
   "source": [
    "# this function concatenates 5 train npz files into one train npz file\n",
    "def concat_npz(path):\n",
    "    images = []\n",
    "    labels = []\n",
    "\n",
    "    for set in range(0, 5):\n",
    "        with np.load(path + \"\\\\train_\" + str(set) + \".npz\") as data1:\n",
    "            img1 = data1[\"images\"]\n",
    "            for img11 in img1:\n",
    "                images.append(img11)\n",
    "            lab1 = data1[\"labels\"]\n",
    "            for lab11 in lab1:\n",
    "                labels.append(lab11)\n",
    "\n",
    "    # Save the concatenated list to a new .npz file\n",
    "    np.savez_compressed(\n",
    "        r\"C:\\Users\\carol\\Documents\\1ºAI\\dtu_mlops-main\\data\\corruptmnist\\train.npz\",\n",
    "        images=np.array(images),\n",
    "        labels=np.array(labels),\n",
    "    )"
   ]
  },
  {
   "cell_type": "code",
   "execution_count": 258,
   "metadata": {},
   "outputs": [],
   "source": [
    "# create one single concatenated train npz file and load it\n",
    "concat_npz(r\"C:\\Users\\carol\\Documents\\1ºAI\\dtu_mlops-main\\data\\corruptmnist\")\n",
    "data = np.load(\n",
    "    r\"C:\\Users\\carol\\Documents\\1ºAI\\dtu_mlops-main\\data\\corruptmnist/train.npz\"\n",
    ")\n",
    "\n",
    "# create a dataset from the npz file\n",
    "dataset = NpzDataset(data)\n",
    "\n",
    "# create a dataloader from the dataset\n",
    "trainloader = torch.utils.data.DataLoader(dataset, batch_size=64, shuffle=True)"
   ]
  },
  {
   "cell_type": "code",
   "execution_count": null,
   "metadata": {},
   "outputs": [],
   "source": [
    "dataiter = iter(trainloader)\n",
    "images, labels = next(dataiter)"
   ]
  },
  {
   "cell_type": "code",
   "execution_count": 259,
   "metadata": {},
   "outputs": [
    {
     "name": "stdout",
     "output_type": "stream",
     "text": [
      "torch.Size([64, 28, 28])\n"
     ]
    },
    {
     "data": {
      "image/png": "[encoded data removed]",
      "text/plain": [
       "<Figure size 640x480 with 1 Axes>"
      ]
     },
     "metadata": {},
     "output_type": "display_data"
    }
   ],
   "source": [
    "print(np.shape(images))\n",
    "plt.imshow(images[1].numpy().squeeze(), cmap=\"Greys_r\");"
   ]
  }
 ],
 "metadata": {
  "kernelspec": {
   "display_name": "dtu_mlops",
   "language": "python",
   "name": "python3"
  },
  "language_info": {
   "codemirror_mode": {
    "name": "ipython",
    "version": 3
   },
   "file_extension": ".py",
   "mimetype": "text/x-python",
   "name": "python",
   "nbconvert_exporter": "python",
   "pygments_lexer": "ipython3",
   "version": "3.10.8 (main, Nov 24 2022, 08:09:04) [Clang 14.0.6 ]"
  },
  "orig_nbformat": 4,
  "vscode": {
   "interpreter": {
    "hash": "363b0a061755d2eafeb11cc1407447f86e418b950c483133c32bd66f6f3cf7a9"
   }
  }
 },
 "nbformat": 4,
 "nbformat_minor": 2
}
